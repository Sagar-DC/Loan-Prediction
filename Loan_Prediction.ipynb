{
  "nbformat": 4,
  "nbformat_minor": 0,
  "metadata": {
    "colab": {
      "name": "Loan-Prediction.ipynb",
      "provenance": [],
      "include_colab_link": true
    },
    "kernelspec": {
      "name": "python3",
      "display_name": "Python 3"
    }
  },
  "cells": [
    {
      "cell_type": "markdown",
      "metadata": {
        "id": "view-in-github",
        "colab_type": "text"
      },
      "source": [
        "<a href=\"https://colab.research.google.com/github/Sagar-DC/Loan-Prediction/blob/master/Loan_Prediction.ipynb\" target=\"_parent\"><img src=\"https://colab.research.google.com/assets/colab-badge.svg\" alt=\"Open In Colab\"/></a>"
      ]
    },
    {
      "cell_type": "code",
      "metadata": {
        "id": "Fdn8nWoO5W8H",
        "colab_type": "code",
        "colab": {}
      },
      "source": [
        "import pandas as pd\n",
        "import numpy as np\n",
        "import matplotlib.pyplot as plt\n",
        "import seaborn as sns"
      ],
      "execution_count": 0,
      "outputs": []
    },
    {
      "cell_type": "markdown",
      "metadata": {
        "id": "SG4W7z0I86W1",
        "colab_type": "text"
      },
      "source": [
        "# **Reading Train Data**\n",
        "[Train Data](https://github.com/Sagar-DC/Loan-Prediction/blob/master/Data/train_ctrUa4K.csv)"
      ]
    },
    {
      "cell_type": "code",
      "metadata": {
        "id": "hqQVe6PQ5cJ2",
        "colab_type": "code",
        "colab": {}
      },
      "source": [
        "train_url = \"https://raw.githubusercontent.com/Sagar-DC/Loan-Prediction/master/Data/train_ctrUa4K.csv\"\n",
        "test_url = \"https://raw.githubusercontent.com/Sagar-DC/Loan-Prediction/master/Data/test_lAUu6dG.csv\"\n",
        "\n",
        "train = pd.read_csv(train_url, index_col= False)\n",
        "test = pd.read_csv(test_url, index_col= False) "
      ],
      "execution_count": 0,
      "outputs": []
    },
    {
      "cell_type": "code",
      "metadata": {
        "id": "ml8KXWpJ3Ali",
        "colab_type": "code",
        "colab": {}
      },
      "source": [
        "train_orginal = train.copy()\n",
        "test_orginal = test.copy()"
      ],
      "execution_count": 0,
      "outputs": []
    },
    {
      "cell_type": "code",
      "metadata": {
        "id": "eHeHkK736ndg",
        "colab_type": "code",
        "outputId": "ae05470e-24b5-414f-85b5-bbd3a892130c",
        "colab": {
          "base_uri": "https://localhost:8080/",
          "height": 224
        }
      },
      "source": [
        "train.iloc[125:130, :]"
      ],
      "execution_count": 5,
      "outputs": [
        {
          "output_type": "execute_result",
          "data": {
            "text/html": [
              "<div>\n",
              "<style scoped>\n",
              "    .dataframe tbody tr th:only-of-type {\n",
              "        vertical-align: middle;\n",
              "    }\n",
              "\n",
              "    .dataframe tbody tr th {\n",
              "        vertical-align: top;\n",
              "    }\n",
              "\n",
              "    .dataframe thead th {\n",
              "        text-align: right;\n",
              "    }\n",
              "</style>\n",
              "<table border=\"1\" class=\"dataframe\">\n",
              "  <thead>\n",
              "    <tr style=\"text-align: right;\">\n",
              "      <th></th>\n",
              "      <th>Loan_ID</th>\n",
              "      <th>Gender</th>\n",
              "      <th>Married</th>\n",
              "      <th>Dependents</th>\n",
              "      <th>Education</th>\n",
              "      <th>Self_Employed</th>\n",
              "      <th>ApplicantIncome</th>\n",
              "      <th>CoapplicantIncome</th>\n",
              "      <th>LoanAmount</th>\n",
              "      <th>Loan_Amount_Term</th>\n",
              "      <th>Credit_History</th>\n",
              "      <th>Property_Area</th>\n",
              "      <th>Loan_Status</th>\n",
              "    </tr>\n",
              "  </thead>\n",
              "  <tbody>\n",
              "    <tr>\n",
              "      <th>125</th>\n",
              "      <td>LP001443</td>\n",
              "      <td>Female</td>\n",
              "      <td>No</td>\n",
              "      <td>0</td>\n",
              "      <td>Graduate</td>\n",
              "      <td>No</td>\n",
              "      <td>3692</td>\n",
              "      <td>0.0</td>\n",
              "      <td>93.0</td>\n",
              "      <td>360.0</td>\n",
              "      <td>NaN</td>\n",
              "      <td>Rural</td>\n",
              "      <td>Y</td>\n",
              "    </tr>\n",
              "    <tr>\n",
              "      <th>126</th>\n",
              "      <td>LP001448</td>\n",
              "      <td>NaN</td>\n",
              "      <td>Yes</td>\n",
              "      <td>3+</td>\n",
              "      <td>Graduate</td>\n",
              "      <td>No</td>\n",
              "      <td>23803</td>\n",
              "      <td>0.0</td>\n",
              "      <td>370.0</td>\n",
              "      <td>360.0</td>\n",
              "      <td>1.0</td>\n",
              "      <td>Rural</td>\n",
              "      <td>Y</td>\n",
              "    </tr>\n",
              "    <tr>\n",
              "      <th>127</th>\n",
              "      <td>LP001449</td>\n",
              "      <td>Male</td>\n",
              "      <td>No</td>\n",
              "      <td>0</td>\n",
              "      <td>Graduate</td>\n",
              "      <td>No</td>\n",
              "      <td>3865</td>\n",
              "      <td>1640.0</td>\n",
              "      <td>NaN</td>\n",
              "      <td>360.0</td>\n",
              "      <td>1.0</td>\n",
              "      <td>Rural</td>\n",
              "      <td>Y</td>\n",
              "    </tr>\n",
              "    <tr>\n",
              "      <th>128</th>\n",
              "      <td>LP001451</td>\n",
              "      <td>Male</td>\n",
              "      <td>Yes</td>\n",
              "      <td>1</td>\n",
              "      <td>Graduate</td>\n",
              "      <td>Yes</td>\n",
              "      <td>10513</td>\n",
              "      <td>3850.0</td>\n",
              "      <td>160.0</td>\n",
              "      <td>180.0</td>\n",
              "      <td>0.0</td>\n",
              "      <td>Urban</td>\n",
              "      <td>N</td>\n",
              "    </tr>\n",
              "    <tr>\n",
              "      <th>129</th>\n",
              "      <td>LP001465</td>\n",
              "      <td>Male</td>\n",
              "      <td>Yes</td>\n",
              "      <td>0</td>\n",
              "      <td>Graduate</td>\n",
              "      <td>No</td>\n",
              "      <td>6080</td>\n",
              "      <td>2569.0</td>\n",
              "      <td>182.0</td>\n",
              "      <td>360.0</td>\n",
              "      <td>NaN</td>\n",
              "      <td>Rural</td>\n",
              "      <td>N</td>\n",
              "    </tr>\n",
              "  </tbody>\n",
              "</table>\n",
              "</div>"
            ],
            "text/plain": [
              "      Loan_ID  Gender Married  ... Credit_History Property_Area Loan_Status\n",
              "125  LP001443  Female      No  ...            NaN         Rural           Y\n",
              "126  LP001448     NaN     Yes  ...            1.0         Rural           Y\n",
              "127  LP001449    Male      No  ...            1.0         Rural           Y\n",
              "128  LP001451    Male     Yes  ...            0.0         Urban           N\n",
              "129  LP001465    Male     Yes  ...            NaN         Rural           N\n",
              "\n",
              "[5 rows x 13 columns]"
            ]
          },
          "metadata": {
            "tags": []
          },
          "execution_count": 5
        }
      ]
    },
    {
      "cell_type": "markdown",
      "metadata": {
        "id": "ZN4VZsna3aJJ",
        "colab_type": "text"
      },
      "source": [
        "# **Know Loan data**"
      ]
    },
    {
      "cell_type": "code",
      "metadata": {
        "id": "QlzVfHP13gVI",
        "colab_type": "code",
        "outputId": "971abcac-ca8b-4619-80e5-87e34fa49384",
        "colab": {
          "base_uri": "https://localhost:8080/",
          "height": 85
        }
      },
      "source": [
        "train.columns"
      ],
      "execution_count": 0,
      "outputs": [
        {
          "output_type": "execute_result",
          "data": {
            "text/plain": [
              "Index(['Loan_ID', 'Gender', 'Married', 'Dependents', 'Education',\n",
              "       'Self_Employed', 'ApplicantIncome', 'CoapplicantIncome', 'LoanAmount',\n",
              "       'Loan_Amount_Term', 'Credit_History', 'Property_Area', 'Loan_Status'],\n",
              "      dtype='object')"
            ]
          },
          "metadata": {
            "tags": []
          },
          "execution_count": 100
        }
      ]
    },
    {
      "cell_type": "code",
      "metadata": {
        "id": "oc808wFH3rEK",
        "colab_type": "code",
        "outputId": "90c30805-7046-4637-c430-ad97afc8f513",
        "colab": {
          "base_uri": "https://localhost:8080/",
          "height": 85
        }
      },
      "source": [
        "test.columns"
      ],
      "execution_count": 0,
      "outputs": [
        {
          "output_type": "execute_result",
          "data": {
            "text/plain": [
              "Index(['Loan_ID', 'Gender', 'Married', 'Dependents', 'Education',\n",
              "       'Self_Employed', 'ApplicantIncome', 'CoapplicantIncome', 'LoanAmount',\n",
              "       'Loan_Amount_Term', 'Credit_History', 'Property_Area'],\n",
              "      dtype='object')"
            ]
          },
          "metadata": {
            "tags": []
          },
          "execution_count": 101
        }
      ]
    },
    {
      "cell_type": "code",
      "metadata": {
        "id": "7Mb8lGYY4JVB",
        "colab_type": "code",
        "outputId": "ec7fe572-031c-49dc-a691-cbf697d16ab7",
        "colab": {
          "base_uri": "https://localhost:8080/",
          "height": 51
        }
      },
      "source": [
        "print(\"Shape of Train & Test\\n\", train.shape, test.shape)"
      ],
      "execution_count": 0,
      "outputs": [
        {
          "output_type": "stream",
          "text": [
            "Shape of Train & Test\n",
            " (614, 13) (367, 12)\n"
          ],
          "name": "stdout"
        }
      ]
    },
    {
      "cell_type": "code",
      "metadata": {
        "id": "_fIfV_Sf3u54",
        "colab_type": "code",
        "outputId": "286a2375-9e9a-4841-e08e-6abff7fbcaa5",
        "colab": {
          "base_uri": "https://localhost:8080/",
          "height": 272
        }
      },
      "source": [
        "print(\"Data types of Train Features\\n\", train.dtypes)"
      ],
      "execution_count": 0,
      "outputs": [
        {
          "output_type": "stream",
          "text": [
            "Data types of Train Features\n",
            " Loan_ID               object\n",
            "Gender                object\n",
            "Married               object\n",
            "Dependents            object\n",
            "Education             object\n",
            "Self_Employed         object\n",
            "ApplicantIncome        int64\n",
            "CoapplicantIncome    float64\n",
            "LoanAmount           float64\n",
            "Loan_Amount_Term     float64\n",
            "Credit_History       float64\n",
            "Property_Area         object\n",
            "Loan_Status           object\n",
            "dtype: object\n"
          ],
          "name": "stdout"
        }
      ]
    },
    {
      "cell_type": "markdown",
      "metadata": {
        "id": "OvNKxg9mGIXr",
        "colab_type": "text"
      },
      "source": [
        "# ***Exploratory Data Analysis***"
      ]
    },
    {
      "cell_type": "markdown",
      "metadata": {
        "id": "w9Rn2rlScv8b",
        "colab_type": "text"
      },
      "source": [
        "## Univariate & Bivariate Analysis\n",
        "\n",
        "\n"
      ]
    },
    {
      "cell_type": "markdown",
      "metadata": {
        "id": "ubEgeDKJ5igz",
        "colab_type": "text"
      },
      "source": [
        "### > Univariate Analysis\n",
        "\n"
      ]
    },
    {
      "cell_type": "markdown",
      "metadata": {
        "id": "6W16RmKjCFZN",
        "colab_type": "text"
      },
      "source": [
        "*Target Variable*"
      ]
    },
    {
      "cell_type": "code",
      "metadata": {
        "id": "gxyMFrCL56mK",
        "colab_type": "code",
        "outputId": "46d2145d-f025-4b46-b23a-fb7c2ce1ac1d",
        "colab": {
          "base_uri": "https://localhost:8080/",
          "height": 68
        }
      },
      "source": [
        "status_count = train['Loan_Status'].value_counts()\n",
        "status_count"
      ],
      "execution_count": 0,
      "outputs": [
        {
          "output_type": "execute_result",
          "data": {
            "text/plain": [
              "Y    422\n",
              "N    192\n",
              "Name: Loan_Status, dtype: int64"
            ]
          },
          "metadata": {
            "tags": []
          },
          "execution_count": 156
        }
      ]
    },
    {
      "cell_type": "code",
      "metadata": {
        "id": "9PKB7Uz67Rn8",
        "colab_type": "code",
        "outputId": "adf0a90e-7241-4880-9f52-0e986416ac25",
        "colab": {
          "base_uri": "https://localhost:8080/",
          "height": 68
        }
      },
      "source": [
        "status_prop = train['Loan_Status'].value_counts(normalize = True)\n",
        "status_prop"
      ],
      "execution_count": 0,
      "outputs": [
        {
          "output_type": "execute_result",
          "data": {
            "text/plain": [
              "Y    0.687296\n",
              "N    0.312704\n",
              "Name: Loan_Status, dtype: float64"
            ]
          },
          "metadata": {
            "tags": []
          },
          "execution_count": 192
        }
      ]
    },
    {
      "cell_type": "code",
      "metadata": {
        "id": "pDmAbF8q6DP0",
        "colab_type": "code",
        "outputId": "bba8c092-c172-46a7-d693-423b1eca9152",
        "colab": {
          "base_uri": "https://localhost:8080/",
          "height": 280
        }
      },
      "source": [
        "train['Loan_Status'].value_counts().plot.bar(figsize = (10, 4), color = ['Green', 'Red']) \n",
        "plt.show()\n",
        "print(\"\\tThe loan of {}({}%) applicant out of {} was approved.\".format(status_count[0], round(status_prop[0]*100,2), train.shape[0]))"
      ],
      "execution_count": 0,
      "outputs": [
        {
          "output_type": "display_data",
          "data": {
            "image/png": "[encoded data removed]",
            "text/plain": [
              "<Figure size 720x288 with 1 Axes>"
            ]
          },
          "metadata": {
            "tags": []
          }
        },
        {
          "output_type": "stream",
          "text": [
            "\tThe loan of 422(68.73%) applicant out of 614 was approved.\n"
          ],
          "name": "stdout"
        }
      ]
    },
    {
      "cell_type": "markdown",
      "metadata": {
        "id": "EVV8nYEkCM3x",
        "colab_type": "text"
      },
      "source": [
        "*Independent Variables*"
      ]
    },
    {
      "cell_type": "code",
      "metadata": {
        "id": "tD_dmcVxDsvG",
        "colab_type": "code",
        "outputId": "06594a4a-0ada-46ea-cbbc-0891697f7586",
        "colab": {
          "base_uri": "https://localhost:8080/",
          "height": 330
        }
      },
      "source": [
        "#Categorical\n",
        "plt.subplot(221)\n",
        "train['Married'].value_counts(normalize=True).plot.bar(title= 'Married') \n",
        "plt.subplot(222)\n",
        "train['Gender'].value_counts(normalize=True).plot.bar(title= 'Gender', figsize = (15, 9)) \n",
        "plt.show()\n",
        "\n",
        "print(\"About 65% of the applicants in the dataset are married.  \\t About 80% applicants in the dataset are male.\")"
      ],
      "execution_count": 0,
      "outputs": [
        {
          "output_type": "display_data",
          "data": {
            "image/png": "[encoded data removed]",
            "text/plain": [
              "<Figure size 1080x648 with 2 Axes>"
            ]
          },
          "metadata": {
            "tags": []
          }
        },
        {
          "output_type": "stream",
          "text": [
            "About 65% of the applicants in the dataset are married.  \t About 80% applicants in the dataset are male.\n"
          ],
          "name": "stdout"
        }
      ]
    },
    {
      "cell_type": "code",
      "metadata": {
        "id": "p7PXw78zPwXf",
        "colab_type": "code",
        "outputId": "bab5f007-bcff-4b08-ff40-14c539d7d07b",
        "colab": {
          "base_uri": "https://localhost:8080/",
          "height": 311
        }
      },
      "source": [
        "#Ordinal\n",
        "plt.subplot(223)\n",
        "train['Self_Employed'].value_counts(normalize=True).plot.bar(title= 'Self_Employed', figsize = (15, 9)) \n",
        "plt.subplot(224) \n",
        "train['Credit_History'].value_counts(normalize=True).plot.bar(title= 'Credit_History')\n",
        "plt.show()\n",
        "\n",
        "print(\"About 85% applicants in the dataset are not self employed. \\t  About 85% applicants have repaid the loan.\")"
      ],
      "execution_count": 0,
      "outputs": [
        {
          "output_type": "display_data",
          "data": {
            "image/png": "[encoded data removed]",
            "text/plain": [
              "<Figure size 1080x648 with 2 Axes>"
            ]
          },
          "metadata": {
            "tags": []
          }
        },
        {
          "output_type": "stream",
          "text": [
            "About 85% applicants in the dataset are not self employed. \t  About 85% applicants have repaid the loan.\n"
          ],
          "name": "stdout"
        }
      ]
    },
    {
      "cell_type": "code",
      "metadata": {
        "id": "vF-5W75J6WUZ",
        "colab_type": "code",
        "outputId": "30183161-6991-4b53-936f-2ce27643094c",
        "colab": {
          "base_uri": "https://localhost:8080/",
          "height": 410
        }
      },
      "source": [
        "plt.subplot(131) \n",
        "train['Dependents'].value_counts(normalize=True).plot.bar(figsize=(20,5), title= 'Dependents') \n",
        "plt.subplot(132)\n",
        "train['Education'].value_counts(normalize=True).plot.bar(title= 'Education') \n",
        "plt.subplot(133)\n",
        "train['Property_Area'].value_counts(normalize=True).plot.bar(title= 'Property_Area') \n",
        "plt.show()\n",
        "\n",
        "print(\"Most of the applicants don’t have dependents. \\t\\t About 80% of the applicants are Graduate. \\t Most of the applicants are from Semiurban area.\")"
      ],
      "execution_count": 0,
      "outputs": [
        {
          "output_type": "display_data",
          "data": {
            "image/png": "[encoded data removed]",
            "text/plain": [
              "<Figure size 1440x360 with 3 Axes>"
            ]
          },
          "metadata": {
            "tags": []
          }
        },
        {
          "output_type": "stream",
          "text": [
            "Most of the applicants don’t have dependents. \t\t About 80% of the applicants are Graduate. \t Most of the applicants are from Semiurban area.\n"
          ],
          "name": "stdout"
        }
      ]
    },
    {
      "cell_type": "code",
      "metadata": {
        "id": "yfmaWuL_SVCI",
        "colab_type": "code",
        "outputId": "c20d309b-2d47-47c5-f1cc-97bd4e3162f3",
        "colab": {
          "base_uri": "https://localhost:8080/",
          "height": 269
        }
      },
      "source": [
        "plt.subplot(221)\n",
        "sns.distplot(train['ApplicantIncome'])\n",
        "plt.subplot(222)\n",
        "train['ApplicantIncome'].plot.box(figsize=(16,7)) \n",
        "plt.show()\n",
        "\n",
        "print(\"\\t\\t\\t Applicant income data is skewed towards left, i.e it is not normally distributed\")\n",
        "print(\"\\t\\t\\t\\t\\t Box plot indicates the presence of outliers\")"
      ],
      "execution_count": 0,
      "outputs": [
        {
          "output_type": "display_data",
          "data": {
            "image/png": "[encoded data removed]",
            "text/plain": [
              "<Figure size 1152x504 with 2 Axes>"
            ]
          },
          "metadata": {
            "tags": []
          }
        },
        {
          "output_type": "stream",
          "text": [
            "\t\t\t Applicant income data is skewed towards left, i.e it is not normally distributed\n",
            "\t\t\t\t\t Box plot indecates the presence of outliers\n"
          ],
          "name": "stdout"
        }
      ]
    },
    {
      "cell_type": "code",
      "metadata": {
        "id": "LXwVHin5S2iX",
        "colab_type": "code",
        "outputId": "69a5c812-73e0-4fd2-8bd5-644bef46cd94",
        "colab": {
          "base_uri": "https://localhost:8080/",
          "height": 269
        }
      },
      "source": [
        "plt.subplot(221) \n",
        "sns.distplot(train['CoapplicantIncome']); \n",
        "plt.subplot(222) \n",
        "train['CoapplicantIncome'].plot.box(figsize=(16,7)) \n",
        "plt.show()\n",
        "\n",
        "print(\"\\t\\t\\t\\t\\t Majority of coapplicant’s income ranges from 0 to 5000.\")\n",
        "print(\"\\t\\t\\t We also see a lot of outliers in the coapplicant income and it is not normally distributed.\")"
      ],
      "execution_count": 0,
      "outputs": [
        {
          "output_type": "display_data",
          "data": {
            "image/png": "[encoded data removed]",
            "text/plain": [
              "<Figure size 1152x504 with 2 Axes>"
            ]
          },
          "metadata": {
            "tags": []
          }
        },
        {
          "output_type": "stream",
          "text": [
            "\t\t\t\t\t Majority of coapplicant’s income ranges from 0 to 5000.\n",
            "\t\t\t We also see a lot of outliers in the coapplicant income and it is not normally distributed.\n"
          ],
          "name": "stdout"
        }
      ]
    },
    {
      "cell_type": "markdown",
      "metadata": {
        "id": "niSA12c_icTa",
        "colab_type": "text"
      },
      "source": [
        "### > Bivariate Analysis\n",
        "\n"
      ]
    },
    {
      "cell_type": "code",
      "metadata": {
        "id": "VqGKa40cWpmJ",
        "colab_type": "code",
        "outputId": "bac50907-3ce2-4ba6-ed0a-ce663d3ad2aa",
        "colab": {
          "base_uri": "https://localhost:8080/",
          "height": 360
        }
      },
      "source": [
        "Gender=pd.crosstab(train['Gender'],train['Loan_Status']).plot(kind=\"bar\", stacked=True, figsize=(5,5))"
      ],
      "execution_count": 0,
      "outputs": [
        {
          "output_type": "display_data",
          "data": {
            "image/png": "[encoded data removed]",
            "text/plain": [
              "<Figure size 360x360 with 1 Axes>"
            ]
          },
          "metadata": {
            "tags": []
          }
        }
      ]
    },
    {
      "cell_type": "code",
      "metadata": {
        "id": "9Yjo38KkXX6A",
        "colab_type": "code",
        "colab": {}
      },
      "source": [
        "pd.crosstab(train['Married'],train['Loan_Status']).plot(kind=\"bar\", stacked=True, figsize=(4,4))\n",
        "pd.crosstab(train['Dependents'],train['Loan_Status']).plot(kind=\"bar\", stacked=True) \n",
        "pd.crosstab(train['Education'],train['Loan_Status']).plot(kind=\"bar\", stacked=True, figsize=(4,4))\n",
        "pd.crosstab(train['Self_Employed'],train['Loan_Status']).plot(kind=\"bar\", stacked=True, figsize=(4,4)) \n",
        "plt.show()"
      ],
      "execution_count": 0,
      "outputs": []
    },
    {
      "cell_type": "code",
      "metadata": {
        "id": "eHzfM7Boa6Ui",
        "colab_type": "code",
        "colab": {}
      },
      "source": [
        "train['Loan_Status'].replace('N', 0,inplace=True) \n",
        "train['Loan_Status'].replace('Y', 1,inplace=True)"
      ],
      "execution_count": 0,
      "outputs": []
    },
    {
      "cell_type": "code",
      "metadata": {
        "id": "Hi5Xl-OgY4NR",
        "colab_type": "code",
        "outputId": "6e5f1f8f-411a-4d22-9a34-256a8456294d",
        "colab": {
          "base_uri": "https://localhost:8080/",
          "height": 501
        }
      },
      "source": [
        "plt.subplots(figsize=(10, 6))\n",
        "sns.heatmap(train.corr(), vmax=.8, square=True, cmap=\"BuPu\")\n",
        "plt.show()\n",
        "\n",
        "print(\"(ApplicantIncome - LoanAmount) & (Credit_History - Loan_Status) are most correlated variables \")  \n",
        "print(\"\\t\\t\\t LoanAmount is also correlated with CoapplicantIncome.\")"
      ],
      "execution_count": 0,
      "outputs": [
        {
          "output_type": "display_data",
          "data": {
            "image/png": "[encoded data removed]",
            "text/plain": [
              "<Figure size 720x432 with 2 Axes>"
            ]
          },
          "metadata": {
            "tags": []
          }
        },
        {
          "output_type": "stream",
          "text": [
            "(ApplicantIncome - LoanAmount) & (Credit_History - Loan_Status) are most correlated variables \n",
            "\t\t\t LoanAmount is also correlated with CoapplicantIncome.\n"
          ],
          "name": "stdout"
        }
      ]
    },
    {
      "cell_type": "markdown",
      "metadata": {
        "id": "xiIH-V8q9fXK",
        "colab_type": "text"
      },
      "source": [
        "## Handling Missing Values and Outliers"
      ]
    },
    {
      "cell_type": "markdown",
      "metadata": {
        "id": "jlPKVTX7g3eh",
        "colab_type": "text"
      },
      "source": [
        "### Missing Values"
      ]
    },
    {
      "cell_type": "code",
      "metadata": {
        "id": "Nfi5aJgj77jo",
        "colab_type": "code",
        "outputId": "b973f59e-6f36-4269-fe13-c62005774848",
        "colab": {
          "base_uri": "https://localhost:8080/",
          "height": 255
        }
      },
      "source": [
        "train.isna().sum()"
      ],
      "execution_count": 7,
      "outputs": [
        {
          "output_type": "execute_result",
          "data": {
            "text/plain": [
              "Loan_ID               0\n",
              "Gender               13\n",
              "Married               3\n",
              "Dependents           15\n",
              "Education             0\n",
              "Self_Employed        32\n",
              "ApplicantIncome       0\n",
              "CoapplicantIncome     0\n",
              "LoanAmount           22\n",
              "Loan_Amount_Term     14\n",
              "Credit_History       50\n",
              "Property_Area         0\n",
              "Loan_Status           0\n",
              "dtype: int64"
            ]
          },
          "metadata": {
            "tags": []
          },
          "execution_count": 7
        }
      ]
    },
    {
      "cell_type": "code",
      "metadata": {
        "id": "_6W_n3oTLaJm",
        "colab_type": "code",
        "outputId": "de608414-a6a0-4b66-8d5c-e8bb6b31b8e0",
        "colab": {
          "base_uri": "https://localhost:8080/",
          "height": 255
        }
      },
      "source": [
        "train.dtypes"
      ],
      "execution_count": 0,
      "outputs": [
        {
          "output_type": "execute_result",
          "data": {
            "text/plain": [
              "Loan_ID               object\n",
              "Gender                object\n",
              "Married               object\n",
              "Dependents            object\n",
              "Education             object\n",
              "Self_Employed         object\n",
              "ApplicantIncome        int64\n",
              "CoapplicantIncome    float64\n",
              "LoanAmount           float64\n",
              "Loan_Amount_Term     float64\n",
              "Credit_History       float64\n",
              "Property_Area         object\n",
              "Loan_Status           object\n",
              "dtype: object"
            ]
          },
          "metadata": {
            "tags": []
          },
          "execution_count": 93
        }
      ]
    },
    {
      "cell_type": "markdown",
      "metadata": {
        "id": "EZMYoryi9pzt",
        "colab_type": "text"
      },
      "source": [
        "**Imputing Missing Values**\n",
        "\n",
        "\n",
        "\n",
        "*   *numerical variables*: imputate using mean or median.\n",
        "*   *categorical variables*: imputate using mode\n",
        "\n",
        "\n",
        "\n",
        "\n",
        "\n",
        "\n",
        "\n",
        "\n",
        "\n",
        "\n"
      ]
    },
    {
      "cell_type": "code",
      "metadata": {
        "id": "Iy25o8Ykf-5O",
        "colab_type": "code",
        "outputId": "aa890354-6f0d-4185-aa80-680ba8b99ad3",
        "colab": {
          "base_uri": "https://localhost:8080/",
          "height": 34
        }
      },
      "source": [
        "train['Gender'].fillna(train['Gender'].value_counts().index[0], inplace = True)\n",
        "train['Married'].fillna(train['Married'].value_counts().index[0], inplace = True)\n",
        "train['Dependents'].fillna(train['Dependents'].value_counts().index[0], inplace = True)\n",
        "train['Self_Employed'].fillna(train['Self_Employed'].value_counts().index[0], inplace = True)\n",
        "train['Credit_History'].fillna(train['Credit_History'].value_counts().index[0], inplace=True)\n",
        "train['Loan_Amount_Term'].fillna(train['Loan_Amount_Term'].value_counts().index[0], inplace = True)\n",
        "\n",
        "train['LoanAmount'].fillna(train['LoanAmount'].median(), inplace = True)\n",
        "\n",
        "if(train.isna().sum().sum() == 0):\n",
        "  print(\"All missing values are imputed\")"
      ],
      "execution_count": 8,
      "outputs": [
        {
          "output_type": "stream",
          "text": [
            "All missing values are imputed\n"
          ],
          "name": "stdout"
        }
      ]
    },
    {
      "cell_type": "code",
      "metadata": {
        "id": "o8g4k755fPjd",
        "colab_type": "code",
        "outputId": "0813bc21-340d-40fb-dc54-2d925722e08e",
        "colab": {
          "base_uri": "https://localhost:8080/",
          "height": 238
        }
      },
      "source": [
        "test.isna().sum()"
      ],
      "execution_count": 9,
      "outputs": [
        {
          "output_type": "execute_result",
          "data": {
            "text/plain": [
              "Loan_ID               0\n",
              "Gender               11\n",
              "Married               0\n",
              "Dependents           10\n",
              "Education             0\n",
              "Self_Employed        23\n",
              "ApplicantIncome       0\n",
              "CoapplicantIncome     0\n",
              "LoanAmount            5\n",
              "Loan_Amount_Term      6\n",
              "Credit_History       29\n",
              "Property_Area         0\n",
              "dtype: int64"
            ]
          },
          "metadata": {
            "tags": []
          },
          "execution_count": 9
        }
      ]
    },
    {
      "cell_type": "code",
      "metadata": {
        "id": "N7H3UaXbfnWi",
        "colab_type": "code",
        "outputId": "c5903a95-ff56-48a7-fcaf-f963a0cb6d77",
        "colab": {
          "base_uri": "https://localhost:8080/",
          "height": 34
        }
      },
      "source": [
        "test['Gender'].fillna(train['Gender'].mode()[0], inplace=True) \n",
        "test['Dependents'].fillna(train['Dependents'].mode()[0], inplace=True) \n",
        "test['Self_Employed'].fillna(train['Self_Employed'].mode()[0], inplace=True) \n",
        "test['Credit_History'].fillna(train['Credit_History'].mode()[0], inplace=True) \n",
        "test['Loan_Amount_Term'].fillna(train['Loan_Amount_Term'].mode()[0], inplace=True) \n",
        "\n",
        "test['LoanAmount'].fillna(train['LoanAmount'].median(), inplace=True)\n",
        "\n",
        "if(test.isna().sum().sum() == 0):\n",
        "  print(\"All missing values are imputed\")"
      ],
      "execution_count": 10,
      "outputs": [
        {
          "output_type": "stream",
          "text": [
            "All missing values are imputed\n"
          ],
          "name": "stdout"
        }
      ]
    },
    {
      "cell_type": "markdown",
      "metadata": {
        "id": "x9J-pgi7g9Bo",
        "colab_type": "text"
      },
      "source": [
        "### Outliers"
      ]
    },
    {
      "cell_type": "markdown",
      "metadata": {
        "id": "Kg4GuAKgj4Yp",
        "colab_type": "text"
      },
      "source": [
        "LoanAmount contains outliers, which we saw using boxplot earlier.\n",
        "LoanAmount data is right skewed. One way to remove the skewness is by doing the log transformation"
      ]
    },
    {
      "cell_type": "code",
      "metadata": {
        "id": "Pj6kNfyVjIWQ",
        "colab_type": "code",
        "outputId": "5269a51c-0017-4451-942d-9686c796e91c",
        "colab": {
          "base_uri": "https://localhost:8080/",
          "height": 282
        }
      },
      "source": [
        "np.log(train['LoanAmount']).hist(bins=20) \n",
        "plt.show()\n",
        "train['LoanAmount_log'] = np.log(train['LoanAmount']) \n",
        "test['LoanAmount_log'] = np.log(test['LoanAmount'])\n",
        "\n",
        "print(\"LoanAmount distribution becames much closer to normal distribution\")"
      ],
      "execution_count": 13,
      "outputs": [
        {
          "output_type": "display_data",
          "data": {
            "image/png": "[encoded data removed]",
            "text/plain": [
              "<Figure size 432x288 with 1 Axes>"
            ]
          },
          "metadata": {
            "tags": []
          }
        },
        {
          "output_type": "stream",
          "text": [
            "LoanAmount distribution becames much closer to normal distribution\n"
          ],
          "name": "stdout"
        }
      ]
    },
    {
      "cell_type": "code",
      "metadata": {
        "id": "nGZ4nZBnjM0Y",
        "colab_type": "code",
        "outputId": "4d42219e-2276-4812-b7e5-8838d6d36f72",
        "colab": {
          "base_uri": "https://localhost:8080/",
          "height": 51
        }
      },
      "source": [
        "print(\"Shape of Train & Test\\n\", train.shape, test.shape)"
      ],
      "execution_count": 14,
      "outputs": [
        {
          "output_type": "stream",
          "text": [
            "Shape of Train & Test\n",
            " (614, 14) (367, 13)\n"
          ],
          "name": "stdout"
        }
      ]
    },
    {
      "cell_type": "markdown",
      "metadata": {
        "id": "DD--EKbXgfke",
        "colab_type": "text"
      },
      "source": [
        "# **Building Model**"
      ]
    },
    {
      "cell_type": "code",
      "metadata": {
        "id": "iyUuBK1zgel3",
        "colab_type": "code",
        "colab": {}
      },
      "source": [
        "train = train.drop('Loan_ID', axis=1) \n",
        "test = test.drop('Loan_ID', axis=1)"
      ],
      "execution_count": 0,
      "outputs": []
    },
    {
      "cell_type": "code",
      "metadata": {
        "id": "sLgEmboSjGY4",
        "colab_type": "code",
        "colab": {}
      },
      "source": [
        "x = train.drop('Loan_Status', axis=1) \n",
        "y = train.Loan_Status"
      ],
      "execution_count": 0,
      "outputs": []
    },
    {
      "cell_type": "code",
      "metadata": {
        "id": "NAc5j15TTqB9",
        "colab_type": "code",
        "colab": {}
      },
      "source": [
        "x = pd.get_dummies(x)"
      ],
      "execution_count": 0,
      "outputs": []
    },
    {
      "cell_type": "markdown",
      "metadata": {
        "id": "OEFG1IAjeRwt",
        "colab_type": "text"
      },
      "source": [
        "Logistic Regression using stratified k-folds cross validation"
      ]
    },
    {
      "cell_type": "code",
      "metadata": {
        "id": "IpkAsK98eNXw",
        "colab_type": "code",
        "colab": {}
      },
      "source": [
        "from sklearn.model_selection import StratifiedKFold"
      ],
      "execution_count": 0,
      "outputs": []
    },
    {
      "cell_type": "code",
      "metadata": {
        "id": "OKqtSPdJfqE-",
        "colab_type": "code",
        "colab": {}
      },
      "source": [
        "kf = StratifiedKFold(n_splits = 5, shuffle = True, random_state = 1)\n",
        "pred_test_full = 0\n",
        "cv_score = []\n",
        "i = 1 "
      ],
      "execution_count": 0,
      "outputs": []
    },
    {
      "cell_type": "code",
      "metadata": {
        "id": "9UfVGZKvf-sY",
        "colab_type": "code",
        "colab": {
          "base_uri": "https://localhost:8080/",
          "height": 102
        },
        "outputId": "7a44d1bc-75d8-473a-f66b-c823ae33375c"
      },
      "source": [
        "for train_index,test_index in kf.split(x,y):\n",
        "    print('{} of KFold {}'.format(i, kf.n_splits))\n",
        "    xtr,xvl = x.loc[train_index],x.loc[test_index]\n",
        "    ytr,yvl = y.loc[train_index],y.loc[test_index]"
      ],
      "execution_count": 28,
      "outputs": [
        {
          "output_type": "stream",
          "text": [
            "1 of KFold 5\n",
            "1 of KFold 5\n",
            "1 of KFold 5\n",
            "1 of KFold 5\n",
            "1 of KFold 5\n"
          ],
          "name": "stdout"
        }
      ]
    },
    {
      "cell_type": "code",
      "metadata": {
        "id": "SRfzYOEEgM3a",
        "colab_type": "code",
        "colab": {}
      },
      "source": [
        "for train_index,test_index in kf.split(X,y):\n",
        "  print('\\n{} of kfold {}'.format(i,kf.n_splits))     \n",
        "  xtr,xvl = X.loc[train_index],X.loc[test_index]     \n",
        "  ytr,yvl = y[train_index],y[test_index]   "
      ],
      "execution_count": 0,
      "outputs": []
    },
    {
      "cell_type": "code",
      "metadata": {
        "id": "NQt5WFvPgqCA",
        "colab_type": "code",
        "colab": {}
      },
      "source": [
        "from sklearn.linear_model import LogisticRegression\n",
        "from sklearn.metrics import accuracy_score"
      ],
      "execution_count": 0,
      "outputs": []
    },
    {
      "cell_type": "code",
      "metadata": {
        "id": "FetGZ-ZCgVxY",
        "colab_type": "code",
        "colab": {
          "base_uri": "https://localhost:8080/",
          "height": 71
        },
        "outputId": "2d1d3093-5429-4e31-bb56-e0c45b6dc359"
      },
      "source": [
        "model = LogisticRegression(random_state=1)     \n",
        "model.fit(xtr, ytr)     \n",
        "pred_train = model.predict(xvl)   "
      ],
      "execution_count": 54,
      "outputs": [
        {
          "output_type": "stream",
          "text": [
            "/usr/local/lib/python3.6/dist-packages/sklearn/linear_model/logistic.py:432: FutureWarning: Default solver will be changed to 'lbfgs' in 0.22. Specify a solver to silence this warning.\n",
            "  FutureWarning)\n"
          ],
          "name": "stderr"
        }
      ]
    },
    {
      "cell_type": "code",
      "metadata": {
        "id": "AoaQuOC8gZbX",
        "colab_type": "code",
        "colab": {
          "base_uri": "https://localhost:8080/",
          "height": 34
        },
        "outputId": "ef08bf90-f0a8-44bc-f050-fed82ee2c26f"
      },
      "source": [
        "score = accuracy_score(yvl,pred_train)   \n",
        "print('accuracy_score',score)  "
      ],
      "execution_count": 55,
      "outputs": [
        {
          "output_type": "stream",
          "text": [
            "accuracy_score 0.8360655737704918\n"
          ],
          "name": "stdout"
        }
      ]
    },
    {
      "cell_type": "code",
      "metadata": {
        "id": "Mw_mMY6ViPH7",
        "colab_type": "code",
        "colab": {}
      },
      "source": [
        "t = pd.get_dummies(test)"
      ],
      "execution_count": 0,
      "outputs": []
    },
    {
      "cell_type": "code",
      "metadata": {
        "id": "bgwSNOV2iP0Q",
        "colab_type": "code",
        "colab": {}
      },
      "source": [
        "i += 1 \n",
        "pred_test = model.predict(t) \n",
        "pred = model.predict_proba(xvl)[:,1]"
      ],
      "execution_count": 0,
      "outputs": []
    },
    {
      "cell_type": "code",
      "metadata": {
        "id": "S2BZo0K4iZqo",
        "colab_type": "code",
        "colab": {}
      },
      "source": [
        "subbmission_url = \"https://raw.githubusercontent.com/Sagar-DC/Loan-Prediction/master/Data/sample_submission_49d68Cx.csv\"\n",
        "\n",
        "submission = pd.read_csv(subbmission_url, index_col= False)"
      ],
      "execution_count": 0,
      "outputs": []
    },
    {
      "cell_type": "code",
      "metadata": {
        "id": "li2oolE2jnkv",
        "colab_type": "code",
        "colab": {
          "base_uri": "https://localhost:8080/",
          "height": 34
        },
        "outputId": "d08b2213-61cc-4778-d556-744b2bba6d44"
      },
      "source": [
        "subbmision.columns"
      ],
      "execution_count": 46,
      "outputs": [
        {
          "output_type": "execute_result",
          "data": {
            "text/plain": [
              "Index(['Loan_ID', 'Loan_Status'], dtype='object')"
            ]
          },
          "metadata": {
            "tags": []
          },
          "execution_count": 46
        }
      ]
    },
    {
      "cell_type": "code",
      "metadata": {
        "id": "kjMs1BXSjUuC",
        "colab_type": "code",
        "colab": {}
      },
      "source": [
        "submission_LR = pd.DataFrame(columns = list(submission.columns), index = submission.index)"
      ],
      "execution_count": 0,
      "outputs": []
    },
    {
      "cell_type": "code",
      "metadata": {
        "id": "OGJG4sb9ja5I",
        "colab_type": "code",
        "colab": {
          "base_uri": "https://localhost:8080/",
          "height": 204
        },
        "outputId": "715d9560-2408-4770-f564-d40175b4d91d"
      },
      "source": [
        "submission_LR.head()"
      ],
      "execution_count": 48,
      "outputs": [
        {
          "output_type": "execute_result",
          "data": {
            "text/html": [
              "<div>\n",
              "<style scoped>\n",
              "    .dataframe tbody tr th:only-of-type {\n",
              "        vertical-align: middle;\n",
              "    }\n",
              "\n",
              "    .dataframe tbody tr th {\n",
              "        vertical-align: top;\n",
              "    }\n",
              "\n",
              "    .dataframe thead th {\n",
              "        text-align: right;\n",
              "    }\n",
              "</style>\n",
              "<table border=\"1\" class=\"dataframe\">\n",
              "  <thead>\n",
              "    <tr style=\"text-align: right;\">\n",
              "      <th></th>\n",
              "      <th>Loan_ID</th>\n",
              "      <th>Loan_Status</th>\n",
              "    </tr>\n",
              "  </thead>\n",
              "  <tbody>\n",
              "    <tr>\n",
              "      <th>0</th>\n",
              "      <td>NaN</td>\n",
              "      <td>NaN</td>\n",
              "    </tr>\n",
              "    <tr>\n",
              "      <th>1</th>\n",
              "      <td>NaN</td>\n",
              "      <td>NaN</td>\n",
              "    </tr>\n",
              "    <tr>\n",
              "      <th>2</th>\n",
              "      <td>NaN</td>\n",
              "      <td>NaN</td>\n",
              "    </tr>\n",
              "    <tr>\n",
              "      <th>3</th>\n",
              "      <td>NaN</td>\n",
              "      <td>NaN</td>\n",
              "    </tr>\n",
              "    <tr>\n",
              "      <th>4</th>\n",
              "      <td>NaN</td>\n",
              "      <td>NaN</td>\n",
              "    </tr>\n",
              "  </tbody>\n",
              "</table>\n",
              "</div>"
            ],
            "text/plain": [
              "  Loan_ID Loan_Status\n",
              "0     NaN         NaN\n",
              "1     NaN         NaN\n",
              "2     NaN         NaN\n",
              "3     NaN         NaN\n",
              "4     NaN         NaN"
            ]
          },
          "metadata": {
            "tags": []
          },
          "execution_count": 48
        }
      ]
    },
    {
      "cell_type": "code",
      "metadata": {
        "id": "MfgkxYfFjhsD",
        "colab_type": "code",
        "colab": {
          "base_uri": "https://localhost:8080/",
          "height": 34
        },
        "outputId": "527637dc-7125-499a-e097-895a6209b18f"
      },
      "source": [
        "submission_LR['Loan_ID'] = submission.Loan_ID\n",
        "submission_LR['Loan_Status'] = pred_test\n",
        "submission_LR.shape"
      ],
      "execution_count": 49,
      "outputs": [
        {
          "output_type": "execute_result",
          "data": {
            "text/plain": [
              "(367, 2)"
            ]
          },
          "metadata": {
            "tags": []
          },
          "execution_count": 49
        }
      ]
    },
    {
      "cell_type": "code",
      "metadata": {
        "id": "VQdK2T-Xkto1",
        "colab_type": "code",
        "colab": {}
      },
      "source": [
        "submission_LR.to_csv(\"submission_LR.csv\", index= False)"
      ],
      "execution_count": 0,
      "outputs": []
    },
    {
      "cell_type": "code",
      "metadata": {
        "id": "viBFRW6mkx65",
        "colab_type": "code",
        "colab": {
          "base_uri": "https://localhost:8080/",
          "height": 187
        },
        "outputId": "2599dfbb-3374-4255-b060-c5741a467094"
      },
      "source": [
        "!head submission_LR.csv"
      ],
      "execution_count": 52,
      "outputs": [
        {
          "output_type": "stream",
          "text": [
            "Loan_ID,Loan_Status\n",
            "LP001015,1\n",
            "LP001022,1\n",
            "LP001031,1\n",
            "LP001035,1\n",
            "LP001051,1\n",
            "LP001054,1\n",
            "LP001055,1\n",
            "LP001056,0\n",
            "LP001059,1\n"
          ],
          "name": "stdout"
        }
      ]
    }
  ]
}